{
 "cells": [
  {
   "cell_type": "code",
   "execution_count": 41,
   "metadata": {
    "collapsed": false
   },
   "outputs": [],
   "source": [
    "import yaml"
   ]
  },
  {
   "cell_type": "code",
   "execution_count": 42,
   "metadata": {
    "collapsed": true
   },
   "outputs": [],
   "source": [
    "def loady(file):\n",
    "    with open(file, 'r') as f:\n",
    "        return yaml.load(f.read())\n"
   ]
  },
  {
   "cell_type": "code",
   "execution_count": 53,
   "metadata": {
    "collapsed": false
   },
   "outputs": [],
   "source": [
    "schema = loady('boobar_schema.yml')\n",
    "boobar = loady('boobar.yml')"
   ]
  },
  {
   "cell_type": "code",
   "execution_count": 54,
   "metadata": {
    "collapsed": false
   },
   "outputs": [
    {
     "data": {
      "text/plain": [
       "{'bar': 2.0,\n",
       " 'foo': 1,\n",
       " 'hello': 'world',\n",
       " 'kitty': [1.0, 2.0, 3.0],\n",
       " 'wt': {'hub': {'height': 'a1.0E+6'},\n",
       "  'rotor': {'blades': [{'mass': 100}, {'mass': -100}, {'mass': 100}],\n",
       "   'mass': 300}}}"
      ]
     },
     "execution_count": 54,
     "metadata": {},
     "output_type": "execute_result"
    }
   ],
   "source": [
    "boobar"
   ]
  },
  {
   "cell_type": "code",
   "execution_count": 55,
   "metadata": {
    "collapsed": false
   },
   "outputs": [
    {
     "data": {
      "text/plain": [
       "{'$schema': 'http://json-schema.org/draft-04/schema#',\n",
       " 'definitions': {'blade': {'property': {'mass': {'minimum': 0.0,\n",
       "     'type': 'number',\n",
       "     'units': 'kg'}},\n",
       "   'type': 'object'},\n",
       "  'rotor': {'property': {'blades': {'items': {'$ref': '#definitions/blade'},\n",
       "     'type': 'array'},\n",
       "    'mass': {'description': 'the rotor weight',\n",
       "     'expr': 'sum([b.mass for b in blades])',\n",
       "     'minimum': 0.0,\n",
       "     'type': 'number',\n",
       "     'units': 'kg'}},\n",
       "   'type': 'object'},\n",
       "  'wind_turbine': {'properties': {'hub': {'height': {'description': 'The hub height',\n",
       "      'maximum': 1000.0,\n",
       "      'minimum': 0.0,\n",
       "      'type': 'number',\n",
       "      'units': 'm'}},\n",
       "    'rotor': {'$ref': '#definitions/rotor'}},\n",
       "   'type': 'object'}},\n",
       " 'properties': {'bar': {'type': 'number'},\n",
       "  'foo': {'type': 'integer'},\n",
       "  'hello': {'type': 'string'},\n",
       "  'kitty': {'items': {'type': 'number'}, 'type': 'array'},\n",
       "  'wt': {'$ref': '#definitions/wind_turbine'}},\n",
       " 'title': 'root'}"
      ]
     },
     "execution_count": 55,
     "metadata": {},
     "output_type": "execute_result"
    }
   ],
   "source": [
    "schema"
   ]
  },
  {
   "cell_type": "code",
   "execution_count": 56,
   "metadata": {
    "collapsed": true
   },
   "outputs": [],
   "source": [
    "from jsonschema import validate"
   ]
  },
  {
   "cell_type": "code",
   "execution_count": 85,
   "metadata": {
    "collapsed": false
   },
   "outputs": [],
   "source": [
    "schema = loady('boobar_schema.yml')\n",
    "boobar = loady('boobar.yml')\n",
    "validate(boobar, schema)"
   ]
  },
  {
   "cell_type": "code",
   "execution_count": null,
   "metadata": {
    "collapsed": true
   },
   "outputs": [],
   "source": []
  },
  {
   "cell_type": "code",
   "execution_count": null,
   "metadata": {
    "collapsed": true
   },
   "outputs": [],
   "source": []
  }
 ],
 "metadata": {
  "kernelspec": {
   "display_name": "Python 3",
   "language": "python",
   "name": "python3"
  },
  "language_info": {
   "codemirror_mode": {
    "name": "ipython",
    "version": 3
   },
   "file_extension": ".py",
   "mimetype": "text/x-python",
   "name": "python",
   "nbconvert_exporter": "python",
   "pygments_lexer": "ipython3",
   "version": "3.5.0"
  }
 },
 "nbformat": 4,
 "nbformat_minor": 0
}
